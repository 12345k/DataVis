{
 "cells": [
  {
   "cell_type": "code",
   "execution_count": 16,
   "metadata": {},
   "outputs": [],
   "source": [
    "import pandas as pd\n",
    "import numpy as np\n",
    "import matplotlib.pyplot as plt\n",
    "from sklearn import neighbors\n",
    "%matplotlib inline\n",
    "\n",
    "import seaborn as sns; sns.set()\n",
    "\n",
    "#ignore 'Future warnings'\n",
    "import warnings\n",
    "warnings.simplefilter(action='ignore', category=FutureWarning)"
   ]
  },
  {
   "cell_type": "code",
   "execution_count": 17,
   "metadata": {},
   "outputs": [
    {
     "name": "stdout",
     "output_type": "stream",
     "text": [
      "Unnamed: 0                   0\n",
      "country                     63\n",
      "description                  0\n",
      "designation              37465\n",
      "points                       0\n",
      "price                     8996\n",
      "province                    63\n",
      "region_1                 21247\n",
      "region_2                 79460\n",
      "taster_name              26244\n",
      "taster_twitter_handle    31213\n",
      "title                        0\n",
      "variety                      1\n",
      "winery                       0\n",
      "dtype: int64\n"
     ]
    }
   ],
   "source": [
    "# Reading and viewing data\n",
    "winedf =  pd.read_csv(\"./data/wine-reviews/winemag-data-130k-v2.csv\")\n",
    "\n",
    "#how many nulls\n",
    "print(winedf.isnull().sum())\n",
    "\n"
   ]
  },
  {
   "cell_type": "code",
   "execution_count": 42,
   "metadata": {},
   "outputs": [
    {
     "name": "stdout",
     "output_type": "stream",
     "text": [
      "(129971, 14)\n",
      "\n",
      "\n",
      "Unnamed: 0                 int64\n",
      "country                   object\n",
      "description               object\n",
      "designation               object\n",
      "points                     int64\n",
      "price                    float64\n",
      "province                  object\n",
      "region_1                  object\n",
      "region_2                  object\n",
      "taster_name               object\n",
      "taster_twitter_handle     object\n",
      "title                     object\n",
      "variety                   object\n",
      "winery                    object\n",
      "dtype: object\n"
     ]
    }
   ],
   "source": [
    "#how does the data looks like\n",
    "print(winedf.shape)\n",
    "print(\"\\n\")\n",
    "print(winedf.dtypes)\n"
   ]
  },
  {
   "cell_type": "code",
   "execution_count": 18,
   "metadata": {},
   "outputs": [
    {
     "name": "stdout",
     "output_type": "stream",
     "text": [
      "Unnamed: 0                   0\n",
      "country                      0\n",
      "description                  0\n",
      "designation                  0\n",
      "points                       0\n",
      "price                        0\n",
      "province                     0\n",
      "region_1                     0\n",
      "region_2                     0\n",
      "taster_name              26244\n",
      "taster_twitter_handle    31213\n",
      "title                        0\n",
      "variety                      0\n",
      "winery                       0\n",
      "vintage                      0\n",
      "dtype: int64\n"
     ]
    }
   ],
   "source": [
    "# imputing missing values\n",
    "\n",
    "#imputing a constant 'unknown' for country and province\n",
    "winedf.country = winedf.country.fillna('unknown')\n",
    "winedf.province = winedf.province.fillna('unknown')\n",
    "\n",
    "#imputing country-province combo for region_1 and region_2\n",
    "winedf.region_1 = winedf.region_1.fillna((winedf.country + '-' + winedf.province))\n",
    "winedf.region_2 = winedf.region_2.fillna((winedf.region_1))\n",
    "\n",
    "#imputing mean value for price\n",
    "\n",
    "winedf.price = winedf.groupby(['country','variety','region_1'])['price'].apply(lambda x: x.fillna(x.mean()))\n",
    "winedf.price = winedf.groupby(['country'])['price'].apply(lambda x: x.fillna(x.mean()))\n",
    "winedf.price.fillna(winedf.price.mean(), inplace=True)\n",
    "\n",
    "winedf.variety =  winedf.variety.fillna(method='ffill')\n",
    "\n",
    "winedf.designation = winedf.designation.fillna(winedf.title.str.extract('([^\\d|(|)]+(?=[(]))'))\n",
    "winedf.designation = winedf.designation.fillna(winedf.title.str.extract('([^\\d|(|)]+(?=$))'))\n",
    "\n",
    "winedf['vintage'] = winedf.title.str.extract('([\\d]{4})')\n",
    "winedf['vintage'] = winedf.vintage.fillna('2013')\n",
    "winedf.vintage =  winedf.vintage.astype(np.int)\n",
    "\n",
    "#no more na's\n",
    "print(winedf.isnull().sum())\n"
   ]
  },
  {
   "cell_type": "code",
   "execution_count": 19,
   "metadata": {},
   "outputs": [],
   "source": [
    "from sklearn.model_selection import train_test_split\n",
    "from sklearn.feature_extraction.text import TfidfVectorizer\n",
    "from sklearn.pipeline import make_pipeline\n",
    "from sklearn.naive_bayes import MultinomialNB\n",
    "from sklearn.model_selection import cross_val_score\n",
    "\n"
   ]
  },
  {
   "cell_type": "code",
   "execution_count": 37,
   "metadata": {},
   "outputs": [],
   "source": [
    "# Use TFIDF Tokenizer to create categorical columns of words from \n",
    "# the 'description' column and then apply Multinomical Naive Bayes classifier \n",
    "#to predict (impute) 'taster_name'\n",
    "model = make_pipeline(TfidfVectorizer(), MultinomialNB())\n",
    "\n",
    "# Training data will the rows that have the 'taster_name'\n",
    "Train = winedf.loc[winedf.taster_name.isna() == False, ['description', 'taster_name']]\n",
    "\n",
    "# Test (prediction) dataset will be the rows with nas for 'taster_name'\n",
    "Test = winedf.loc[winedf.taster_name.isna(), ['description', 'taster_name']]\n",
    "\n",
    "# use cross validation to verify the prediction accuracy of the model\n",
    "#cross_val_score(model,Train['description'],Train['taster_name'],cv=5 )\n",
    "\n",
    "# Train the model and use it to predict the 'taster_name'\n",
    "model.fit(Train['description'],Train['taster_name'])\n",
    "taster_name_pred =  model.predict(Test['description'])\n",
    "\n",
    "#from sklearn.metrics import accuracy_score\n",
    "#accuracy_score(X['taster_name'], taster_name_pred)\n",
    "\n",
    "# impute the 'taster_name' from the predicted labels from the model\n",
    "winedf.loc[winedf.taster_name.isna(), ['taster_name']] = taster_name_pred"
   ]
  },
  {
   "cell_type": "code",
   "execution_count": 50,
   "metadata": {},
   "outputs": [
    {
     "name": "stdout",
     "output_type": "stream",
     "text": [
      "give me list of countries with atleast 100 wine reviews\n",
      "['Italy' 'Portugal' 'US' 'Spain' 'France' 'Germany' 'Argentina' 'Chile'\n",
      " 'Australia' 'Austria' 'South Africa' 'New Zealand' 'Israel' 'Hungary'\n",
      " 'Greece' 'Romania' 'Canada' 'Uruguay' 'Bulgaria']\n",
      "\n",
      "\n",
      "give me list of countries with above average wine price\n",
      "['Italy' 'US' 'France' 'Germany' 'Hungary']\n",
      "\n",
      "\n",
      "give me list of countries with above average wine rating\n",
      "['Italy' 'US' 'France' 'Germany' 'Australia' 'Austria' 'Israel' 'Hungary'\n",
      " 'Canada']\n"
     ]
    }
   ],
   "source": [
    "#Some interesting use of grouping function\n",
    "\n",
    "print('give me list of countries with atleast 100 wine reviews')\n",
    "print(winedf.groupby('country').filter(lambda x: x['price'].count() > 100)['country'].unique())\n",
    "\n",
    "print('\\n')\n",
    "print('give me list of countries with above average wine price')\n",
    "print(winedf.groupby('country').filter(lambda x: (x['price'].count() > 100) & (x['price'].mean() > winedf['price'].mean()))['country'].unique())\n",
    "\n",
    "\n",
    "print('\\n')\n",
    "print('give me list of countries with above average wine rating')\n",
    "print(winedf.groupby('country').filter(lambda x: (x['points'].count() > 100) & (x['points'].mean() > winedf['points'].mean()))['country'].unique())\n",
    "\n"
   ]
  },
  {
   "cell_type": "code",
   "execution_count": 44,
   "metadata": {},
   "outputs": [
    {
     "name": "stdout",
     "output_type": "stream",
     "text": [
      "Index(['US', 'France', 'Italy', 'Spain', 'Portugal', 'Chile', 'Argentina',\n",
      "       'Austria', 'Australia', 'Germany'],\n",
      "      dtype='object', name='country')\n",
      "\n",
      "\n",
      "Index(['Switzerland', 'England', 'France', 'Germany', 'Hungary', 'Italy', 'US',\n",
      "       'Egypt', 'Canada', 'Australia'],\n",
      "      dtype='object', name='country')\n"
     ]
    }
   ],
   "source": [
    "#Build Some Top lists for use in further analysis\n",
    "TopCountriesByPrice = winedf.groupby('country')['price'].agg('mean').sort_values(ascending=False)[:10].index\n",
    "TopCountriesByCount = winedf.groupby('country')['price'].agg('count').sort_values(ascending=False)[:10].index\n",
    "\n",
    "TopRegionByPrice = winedf.groupby('country')['price'].agg('mean').sort_values(ascending=False)[:10].index\n",
    "TopCountriesByCount = winedf.groupby('country')['price'].agg('count').sort_values(ascending=False)[:10].index\n",
    "\n",
    "TopCountriesByPrice = winedf.groupby('country')['price'].agg('mean').sort_values(ascending=False)[:10].index\n",
    "TopCountriesByCount = winedf.groupby('country')['price'].agg('count').sort_values(ascending=False)[:10].index\n",
    "\n",
    "TopCountriesByPrice = winedf.groupby('country')['price'].agg('mean').sort_values(ascending=False)[:10].index\n",
    "TopCountriesByCount = winedf.groupby('country')['price'].agg('count').sort_values(ascending=False)[:10].index\n",
    "\n",
    "\n",
    "'''\n",
    "print(TopCountriesByCount)\n",
    "print('\\n')\n",
    "print(TopCountriesByPrice)\n",
    "'''"
   ]
  },
  {
   "cell_type": "code",
   "execution_count": null,
   "metadata": {},
   "outputs": [],
   "source": []
  },
  {
   "cell_type": "code",
   "execution_count": 36,
   "metadata": {},
   "outputs": [
    {
     "data": {
      "text/plain": [
       "winery                    country\n",
       "Blair                     US         1029.000000\n",
       "Masseto                   Italy       587.500000\n",
       "Screaming Eagle           US          500.000000\n",
       "Krug                      France      397.964628\n",
       "Vega Sicilia              Spain       367.500000\n",
       "Contador                  Spain       354.000000\n",
       "Lokoya                    US          350.000000\n",
       "Salon                     France      346.428571\n",
       "Bryant Family             US          335.000000\n",
       "Yao Ming                  US          327.600000\n",
       "Dal Forno Romano          Italy       321.277778\n",
       "Sirena Dunarii            Romania     320.000000\n",
       "Gaja                      Italy       302.086777\n",
       "Hundred Acre              US          300.000000\n",
       "Harlan Estate             US          298.750000\n",
       "Soldera                   Italy       293.000000\n",
       "Château Latour            France      283.301053\n",
       "Château Haut-Brion        France      264.494968\n",
       "Michel Moritz             France      261.666667\n",
       "Domaine Henri Rebourseau  France      257.454545\n",
       "Sérafin Père et Fils      France      251.142857\n",
       "Au Sommet                 US          250.000000\n",
       "Sloan                     US          245.000000\n",
       "Clos de Tart              France      243.820513\n",
       "Ornellaia                 Italy       240.000000\n",
       "Name: price, dtype: float64"
      ]
     },
     "execution_count": 36,
     "metadata": {},
     "output_type": "execute_result"
    }
   ],
   "source": [
    "#wine by winery, country $ top 25 by price\n",
    "winedf.groupby(['winery','country'])[['price']].mean().price.sort_values(ascending=False)[:25]"
   ]
  },
  {
   "cell_type": "code",
   "execution_count": 37,
   "metadata": {},
   "outputs": [
    {
     "data": {
      "text/plain": [
       "variety\n",
       "Cabernet-Shiraz               150.000000\n",
       "Muscadel                      141.300000\n",
       "Mazuelo                        98.500000\n",
       "Tinto Fino                     83.120000\n",
       "Mission                        82.571429\n",
       "Tokay                          82.117647\n",
       "Champagne Blend                80.512289\n",
       "Carignan-Syrah                 80.000000\n",
       "Debit                          72.333333\n",
       "Picolit                        71.869565\n",
       "Tokaji                         71.085415\n",
       "Syrah-Cabernet Franc           69.000000\n",
       "Bordeaux-style White Blend     68.178423\n",
       "Cabernet Blend                 66.757377\n",
       "Nebbiolo                       66.148505\n",
       "Nasco                          65.000000\n",
       "Sangiovese Grosso              61.578730\n",
       "Spätburgunder                  60.092593\n",
       "Tinta Francisca                60.000000\n",
       "Bordeaux-style Red Blend       58.384891\n",
       "Name: price, dtype: float64"
      ]
     },
     "execution_count": 37,
     "metadata": {},
     "output_type": "execute_result"
    }
   ],
   "source": [
    "# variety by price\n",
    "winedf.groupby(['variety'])[['price']].mean().price.sort_values(ascending=False)[:20]"
   ]
  },
  {
   "cell_type": "code",
   "execution_count": 38,
   "metadata": {},
   "outputs": [
    {
     "data": {
      "text/plain": [
       "region_2                      country\n",
       "Montrachet                    France     601.181818\n",
       "Romanée-St.-Vivant            France     545.000000\n",
       "Mazoyeres-Chambertin          France     475.000000\n",
       "Chevalier-Montrachet          France     438.263158\n",
       "Grands-Echezeaux              France     391.000000\n",
       "Musigny                       France     380.000000\n",
       "Chambertin Clos de Bèze       France     347.250000\n",
       "Bonnes-Mares                  France     340.333333\n",
       "Bienvenues Bâtard-Montrachet  France     326.909091\n",
       "Clos de Tart                  France     319.000000\n",
       "Bâtard-Montrachet             France     304.888889\n",
       "Griotte-Chambertin            France     270.000000\n",
       "Chambertin                    France     269.846154\n",
       "Criots-Bâtard-Montrachet      France     266.666667\n",
       "Maury                         France     238.800000\n",
       "Latricières-Chambertin        France     228.500000\n",
       "Corton-Rognet                 France     225.000000\n",
       "Chapelle-Chambertin           France     224.900000\n",
       "Rivesaltes                    France     224.200000\n",
       "Mazis-Chambertin              France     223.400000\n",
       "Name: price, dtype: float64"
      ]
     },
     "execution_count": 38,
     "metadata": {},
     "output_type": "execute_result"
    }
   ],
   "source": [
    "winedf.groupby(['region_2', 'country'])[['price']].mean().price.sort_values(ascending=False)[:20]"
   ]
  },
  {
   "cell_type": "code",
   "execution_count": 39,
   "metadata": {},
   "outputs": [
    {
     "data": {
      "text/plain": [
       "country\n",
       "England     92.888889\n",
       "Austria     89.276742\n",
       "France      88.925870\n",
       "Germany     88.626427\n",
       "Italy       88.413664\n",
       "Canada      88.239796\n",
       "Slovenia    88.234043\n",
       "Morocco     88.166667\n",
       "Turkey      88.096154\n",
       "Portugal    88.057685\n",
       "Name: points, dtype: float64"
      ]
     },
     "execution_count": 39,
     "metadata": {},
     "output_type": "execute_result"
    }
   ],
   "source": [
    "#Top 10 Country By Points\n",
    "winedf.groupby(['country'])[['points']].mean().points.sort_values(ascending = False)[:10]"
   ]
  },
  {
   "cell_type": "code",
   "execution_count": 40,
   "metadata": {},
   "outputs": [
    {
     "data": {
      "text/plain": [
       "winery                        country  \n",
       "Sloan                         US           100.000000\n",
       "Mascarello Giuseppe e Figlio  Italy         99.000000\n",
       "Domaine des Lambrays          France        98.000000\n",
       "Château Climens               France        97.111111\n",
       "Cardinale                     US            97.000000\n",
       "Gandona                       US            97.000000\n",
       "Standish                      Australia     97.000000\n",
       "Au Sommet                     US            97.000000\n",
       "Ovid                          US            97.000000\n",
       "Château d'Yquem               France        96.875000\n",
       "Harlan Estate                 US            96.625000\n",
       "Château Pétrus                France        96.615385\n",
       "Screaming Eagle               US            96.000000\n",
       "Araujo                        US            96.000000\n",
       "Bryant Family                 US            96.000000\n",
       "Semper                        US            96.000000\n",
       "Tenuta dell'Ornellaia         Italy         95.878788\n",
       "The Maiden                    US            95.750000\n",
       "Clos de la Coulée de Serrant  France        95.750000\n",
       "Salon                         France        95.714286\n",
       "Château Léoville Barton       France        95.631579\n",
       "Masseto                       Italy         95.500000\n",
       "Ornellaia                     Italy         95.500000\n",
       "Krug                          France        95.363636\n",
       "Vieux Château Certan          France        95.200000\n",
       "Name: points, dtype: float64"
      ]
     },
     "execution_count": 40,
     "metadata": {},
     "output_type": "execute_result"
    }
   ],
   "source": [
    "#wine by winery, country $ top 25 by points\n",
    "winedf.groupby(['winery','country'])[['points']].mean().points.sort_values(ascending=False)[:25]"
   ]
  },
  {
   "cell_type": "code",
   "execution_count": null,
   "metadata": {},
   "outputs": [],
   "source": []
  }
 ],
 "metadata": {
  "kernelspec": {
   "display_name": "Python 3",
   "language": "python",
   "name": "python3"
  },
  "language_info": {
   "codemirror_mode": {
    "name": "ipython",
    "version": 3
   },
   "file_extension": ".py",
   "mimetype": "text/x-python",
   "name": "python",
   "nbconvert_exporter": "python",
   "pygments_lexer": "ipython3",
   "version": "3.6.3"
  }
 },
 "nbformat": 4,
 "nbformat_minor": 2
}
